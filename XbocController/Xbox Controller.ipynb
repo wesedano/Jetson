{
 "cells": [
  {
   "cell_type": "code",
   "execution_count": null,
   "id": "d086d2f9",
   "metadata": {},
   "outputs": [],
   "source": [
    "pip install pygame"
   ]
  },
  {
   "cell_type": "code",
   "execution_count": null,
   "id": "ab5b2cd3",
   "metadata": {},
   "outputs": [],
   "source": [
    "import pygame\n",
    "import json, os"
   ]
  },
  {
   "cell_type": "code",
   "execution_count": null,
   "id": "01dfec82",
   "metadata": {
    "scrolled": true
   },
   "outputs": [],
   "source": [
    "#Initialize controller\n",
    "pygame.joystick.init()\n",
    "\n",
    "joysticks = [pygame.joystick.Joystick(x) for x in range(pygame.joystick.get_count())]\n",
    "\n",
    "########\n",
    "joysticks"
   ]
  },
  {
   "cell_type": "code",
   "execution_count": null,
   "id": "4a4765fc",
   "metadata": {},
   "outputs": [],
   "source": [
    "class Player(object):\n",
    "    \n",
    "    def __init__(self):\n",
    "        self.player = pygame.rect.Rect((300,400,50,50))\n",
    "        self.color = \"white\"\n",
    "        \n",
    "    def move(self, x_speed, y_speed):\n",
    "        self.player.move_ip((x_speed, y_speed))\n",
    "        \n",
    "    def change_color(self, color):\n",
    "        self.color = color\n",
    "        \n",
    "    def draw(self, game_screen):\n",
    "        pygame.draw.rect(game_screen, self.color, self.player)\n",
    "        \n",
    "    "
   ]
  },
  {
   "cell_type": "code",
   "execution_count": null,
   "id": "530676a9",
   "metadata": {},
   "outputs": [],
   "source": [
    "pygame.init()\n",
    "\n",
    "player = Player()\n",
    "clock = pygame.time.Clock()\n",
    "screen = pygame.display.set_mode((800,600))\n"
   ]
  },
  {
   "cell_type": "code",
   "execution_count": null,
   "id": "447b592f",
   "metadata": {},
   "outputs": [],
   "source": [
    "while True:\n",
    "    for event in pygame.event.get():\n",
    "        if event.type == pygame.QUIT:\n",
    "            print(\"0\")\n",
    "            break\n",
    "        if event.type == pygame.JOYBUTTONDOWN:\n",
    "            print(event)"
   ]
  },
  {
   "cell_type": "code",
   "execution_count": null,
   "id": "32b1462b",
   "metadata": {},
   "outputs": [],
   "source": [
    "t = 0\n",
    "while True:\n",
    "    t = t + 1\n",
    "    print(t)"
   ]
  },
  {
   "cell_type": "code",
   "execution_count": null,
   "id": "6ad3e4d4",
   "metadata": {},
   "outputs": [],
   "source": [
    "for t in [1,2,4,4,5,6] :\n",
    "    print(\"Hello\")\n",
    "    print(t)"
   ]
  },
  {
   "cell_type": "code",
   "execution_count": null,
   "id": "79ab5eef",
   "metadata": {},
   "outputs": [],
   "source": [
    "while True:\n",
    "    for event in pygame.event.get():\n",
    "        if event.type == pygame.QUIT:\n",
    "            break\n",
    "        if event.type == pygame.JOYBUTTONDOWN:\n",
    "            print(event)\n",
    "            #print(pygame.jostick.Joystick(0))   \n",
    "            "
   ]
  },
  {
   "cell_type": "code",
   "execution_count": null,
   "id": "95ce75d2",
   "metadata": {},
   "outputs": [],
   "source": [
    "################################# LOAD UP A BASIC WINDOW #################################\n",
    "pygame.init()\n",
    "DISPLAY_W, DISPLAY_H = 1024,960 #\n",
    "canvas = pygame.Surface((DISPLAY_W,DISPLAY_H))\n",
    "window = pygame.display.set_mode(((DISPLAY_W,DISPLAY_H)))\n",
    "running = True\n",
    "player = pygame.Rect(DISPLAY_W/2, DISPLAY_H/2, 60,60)\n",
    "LEFT, RIGHT, UP, DOWN = False, False, False, False\n",
    "clock = pygame.time.Clock()\n",
    "color = 0\n",
    "\n",
    "###########################################################################################\n",
    "clock"
   ]
  },
  {
   "cell_type": "code",
   "execution_count": null,
   "id": "bff41d81",
   "metadata": {},
   "outputs": [],
   "source": [
    "# START OF GAME LOOP\n",
    "while running:\n",
    "    ################################# CHECK PLAYER INPUT #################################\n",
    "    for event in pygame.event.get():\n",
    "        if event.type == pygame.QUIT:\n",
    "            running = False\n",
    "        if event.type == pygame.KEYDOWN:\n",
    "            ############### UPDATE SPRITE IF SPACE IS PRESSED #################################\n",
    "            pass\n",
    "\n",
    "        # HANDLES BUTTON PRESSES\n",
    "        if event.type == pygame.JOYBUTTONDOWN:\n",
    "            if event.button == button_keys['left_arrow']:\n",
    "                LEFT = True\n",
    "            if event.button == button_keys['right_arrow']:\n",
    "                RIGHT = True\n",
    "            if event.button == button_keys['down_arrow']:\n",
    "                DOWN = True\n",
    "            if event.button == button_keys['up_arrow']:\n",
    "                UP = True\n",
    "        # HANDLES BUTTON RELEASES\n",
    "        if event.type == pygame.JOYBUTTONUP:\n",
    "            if event.button == button_keys['left_arrow']:\n",
    "                LEFT = False\n",
    "            if event.button == button_keys['right_arrow']:\n",
    "                RIGHT = False\n",
    "            if event.button == button_keys['down_arrow']:\n",
    "                DOWN = False\n",
    "            if event.button == button_keys['up_arrow']:\n",
    "                UP = False\n",
    "\n",
    "        #HANDLES ANALOG INPUTS\n",
    "        if event.type == pygame.JOYAXISMOTION:\n",
    "            analog_keys[event.axis] = event.value\n",
    "            print(analog_keys)\n",
    "            # Horizontal Analog\n",
    "            if abs(analog_keys[0]) > .4:\n",
    "                if analog_keys[0] < -.7:\n",
    "                    LEFT = True\n",
    "                else:\n",
    "                    LEFT = False\n",
    "                if analog_keys[0] > .7:\n",
    "                    RIGHT = True\n",
    "                else:\n",
    "                    RIGHT = False\n",
    "            # Vertical Analog\n",
    "            if abs(analog_keys[1]) > .4:\n",
    "                if analog_keys[1] < -.7:\n",
    "                    UP = True\n",
    "                else:\n",
    "                    UP = False\n",
    "                if analog_keys[1] > .7:\n",
    "                    DOWN = True\n",
    "                else:\n",
    "                    DOWN = False\n",
    "                # Triggers\n",
    "            if analog_keys[4] > 0:  # Left trigger\n",
    "                color += 2\n",
    "            if analog_keys[5] > 0:  # Right Trigger\n",
    "                color -= 2\n",
    "\n",
    "\n",
    "\n",
    "\n",
    "\n",
    "\n",
    "    # Handle Player movement\n",
    "    if LEFT:\n",
    "        player.x -=5 #*(-1 * analog_keys[0])\n",
    "    if RIGHT:\n",
    "        player.x += 5 #* analog_keys[0]\n",
    "    if UP:\n",
    "        player.y -= 5\n",
    "    if DOWN:\n",
    "        player.y += 5\n",
    "\n",
    "    if color < 0:\n",
    "        color = 0\n",
    "    elif color > 255:\n",
    "        color = 255\n",
    "\n",
    "\n",
    "    ################################# UPDATE WINDOW AND DISPLAY #################################\n",
    "    canvas.fill((255,255,255))\n",
    "    pygame.draw.rect(canvas, (0,0 + color,255), player)\n",
    "    window.blit(canvas, (0,0))\n",
    "    clock.tick(60)\n",
    "    pygame.display.update()\n"
   ]
  },
  {
   "cell_type": "code",
   "execution_count": null,
   "id": "6421ed3f",
   "metadata": {},
   "outputs": [],
   "source": []
  }
 ],
 "metadata": {
  "kernelspec": {
   "display_name": "Python 3",
   "language": "python",
   "name": "python3"
  },
  "language_info": {
   "codemirror_mode": {
    "name": "ipython",
    "version": 3
   },
   "file_extension": ".py",
   "mimetype": "text/x-python",
   "name": "python",
   "nbconvert_exporter": "python",
   "pygments_lexer": "ipython3",
   "version": "3.8.8"
  }
 },
 "nbformat": 4,
 "nbformat_minor": 5
}
